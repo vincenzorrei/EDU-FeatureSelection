{
 "cells": [
  {
   "cell_type": "markdown",
   "metadata": {},
   "source": [
    "# Data Preparation: Outlier"
   ]
  },
  {
   "cell_type": "code",
   "execution_count": 381,
   "metadata": {},
   "outputs": [],
   "source": [
    "# Import\n",
    "import numpy as np\n",
    "import pandas as pd\n",
    "\n",
    "import matplotlib.pyplot as plt\n",
    "import seaborn as sns\n",
    "\n",
    "import statsmodels.api as sm\n",
    "import sklearn.linear_model as skl_lm\n",
    "from sklearn import metrics\n",
    "from sklearn.metrics import confusion_matrix, ConfusionMatrixDisplay\n",
    "from sklearn.model_selection import train_test_split\n"
   ]
  },
  {
   "cell_type": "code",
   "execution_count": 382,
   "metadata": {},
   "outputs": [],
   "source": [
    "# Import the dataset\n",
    "df = pd.read_csv('data/Default.csv')"
   ]
  },
  {
   "cell_type": "code",
   "execution_count": 383,
   "metadata": {},
   "outputs": [],
   "source": [
    "df.set_index('Unnamed: 0', inplace=True)\n",
    "df['default2'] = df.default.factorize()[0]\n",
    "df['student2'] = df.student.factorize()[0]"
   ]
  },
  {
   "cell_type": "code",
   "execution_count": 384,
   "metadata": {},
   "outputs": [
    {
     "data": {
      "text/plain": [
       "array([[ 729.52649521],\n",
       "       [ 817.18040656],\n",
       "       [1073.54916401],\n",
       "       ...,\n",
       "       [ 845.41198922],\n",
       "       [1569.00905338],\n",
       "       [ 200.92218263]])"
      ]
     },
     "execution_count": 384,
     "metadata": {},
     "output_type": "execute_result"
    }
   ],
   "source": [
    "x = df.balance.values.reshape(-1,1) # scikit-learn expects a 2D array not a pd.Series :(\n",
    "y = df.default2\n",
    "x"
   ]
  },
  {
   "cell_type": "code",
   "execution_count": 385,
   "metadata": {},
   "outputs": [],
   "source": [
    "X_train, X_test, y_train, y_test = train_test_split(x, y, test_size=0.2, random_state=40)\n"
   ]
  },
  {
   "cell_type": "code",
   "execution_count": 386,
   "metadata": {},
   "outputs": [
    {
     "name": "stdout",
     "output_type": "stream",
     "text": [
      "Optimization terminated successfully.\n",
      "         Current function value: 0.081182\n",
      "         Iterations 10\n"
     ]
    },
    {
     "data": {
      "text/html": [
       "<div>\n",
       "<style scoped>\n",
       "    .dataframe tbody tr th:only-of-type {\n",
       "        vertical-align: middle;\n",
       "    }\n",
       "\n",
       "    .dataframe tbody tr th {\n",
       "        vertical-align: top;\n",
       "    }\n",
       "\n",
       "    .dataframe thead th {\n",
       "        text-align: right;\n",
       "    }\n",
       "</style>\n",
       "<table border=\"1\" class=\"dataframe\">\n",
       "  <thead>\n",
       "    <tr style=\"text-align: right;\">\n",
       "      <th></th>\n",
       "      <th>Coef.</th>\n",
       "      <th>Std.Err.</th>\n",
       "      <th>z</th>\n",
       "      <th>P&gt;|z|</th>\n",
       "      <th>[0.025</th>\n",
       "      <th>0.975]</th>\n",
       "    </tr>\n",
       "  </thead>\n",
       "  <tbody>\n",
       "    <tr>\n",
       "      <th>const</th>\n",
       "      <td>-10.570829</td>\n",
       "      <td>0.399128</td>\n",
       "      <td>-26.484813</td>\n",
       "      <td>1.450155e-154</td>\n",
       "      <td>-11.353105</td>\n",
       "      <td>-9.788552</td>\n",
       "    </tr>\n",
       "    <tr>\n",
       "      <th>0</th>\n",
       "      <td>0.005482</td>\n",
       "      <td>0.000245</td>\n",
       "      <td>22.375180</td>\n",
       "      <td>6.868051e-111</td>\n",
       "      <td>0.005002</td>\n",
       "      <td>0.005962</td>\n",
       "    </tr>\n",
       "  </tbody>\n",
       "</table>\n",
       "</div>"
      ],
      "text/plain": [
       "           Coef.  Std.Err.          z          P>|z|     [0.025    0.975]\n",
       "const -10.570829  0.399128 -26.484813  1.450155e-154 -11.353105 -9.788552\n",
       "0       0.005482  0.000245  22.375180  6.868051e-111   0.005002  0.005962"
      ]
     },
     "execution_count": 386,
     "metadata": {},
     "output_type": "execute_result"
    }
   ],
   "source": [
    "X_train_w_intercept = sm.add_constant(pd.DataFrame(X_train))\n",
    "est = sm.Logit(y_train.to_numpy(), X_train_w_intercept).fit()\n",
    "est.summary2().tables[1]\n",
    "\n"
   ]
  },
  {
   "cell_type": "code",
   "execution_count": 387,
   "metadata": {},
   "outputs": [],
   "source": [
    "X_test_w_intercept = sm.add_constant(pd.DataFrame(X_test))\n",
    "y_prob = est.predict(X_test_w_intercept)\n",
    "y_pred = (y_prob > 0.5).astype(int)"
   ]
  },
  {
   "cell_type": "code",
   "execution_count": 388,
   "metadata": {},
   "outputs": [
    {
     "data": {
      "image/png": "[encoded data removed]",
      "text/plain": [
       "<Figure size 640x480 with 2 Axes>"
      ]
     },
     "metadata": {},
     "output_type": "display_data"
    }
   ],
   "source": [
    "cm = confusion_matrix(y_test, y_pred)\n",
    "cm_display = ConfusionMatrixDisplay(cm).plot()\n",
    "plt.show()"
   ]
  },
  {
   "cell_type": "code",
   "execution_count": 389,
   "metadata": {},
   "outputs": [
    {
     "data": {
      "text/plain": [
       "0.974"
      ]
     },
     "execution_count": 389,
     "metadata": {},
     "output_type": "execute_result"
    }
   ],
   "source": [
    "accuracy = metrics.accuracy_score(y_test, y_pred)\n",
    "accuracy"
   ]
  },
  {
   "cell_type": "code",
   "execution_count": 390,
   "metadata": {},
   "outputs": [],
   "source": [
    "# Create 10 new syntetic columns with random values\n",
    "for i in range(5):\n",
    "    df[f'random_{i}'] = np.random.rand(df.shape[0])\n",
    "\n",
    "# Create 5 new columns correlated with balance with some noise\n",
    "for i in range(5):\n",
    "    df[f'correlated_{i}'] = df.balance + np.random.normal(0, 100, df.shape[0])\n",
    "\n"
   ]
  },
  {
   "cell_type": "code",
   "execution_count": 391,
   "metadata": {},
   "outputs": [],
   "source": [
    "# Select all the columns that are not 'default' or 'student'\n",
    "X = df.loc[:, ~df.columns.isin(['default', 'student', 'default2', 'student2'])]\n",
    "y = df.default2\n"
   ]
  },
  {
   "cell_type": "code",
   "execution_count": 392,
   "metadata": {},
   "outputs": [],
   "source": [
    "# Divide the dataset into training and testing\n",
    "X_train, X_test, y_train, y_test = train_test_split(X, y, test_size=0.2, random_state=42)\n"
   ]
  },
  {
   "cell_type": "code",
   "execution_count": 393,
   "metadata": {},
   "outputs": [
    {
     "name": "stdout",
     "output_type": "stream",
     "text": [
      "Optimization terminated successfully.\n",
      "         Current function value: 0.075640\n",
      "         Iterations 10\n"
     ]
    },
    {
     "data": {
      "text/html": [
       "<div>\n",
       "<style scoped>\n",
       "    .dataframe tbody tr th:only-of-type {\n",
       "        vertical-align: middle;\n",
       "    }\n",
       "\n",
       "    .dataframe tbody tr th {\n",
       "        vertical-align: top;\n",
       "    }\n",
       "\n",
       "    .dataframe thead th {\n",
       "        text-align: right;\n",
       "    }\n",
       "</style>\n",
       "<table border=\"1\" class=\"dataframe\">\n",
       "  <thead>\n",
       "    <tr style=\"text-align: right;\">\n",
       "      <th></th>\n",
       "      <th>Coef.</th>\n",
       "      <th>Std.Err.</th>\n",
       "      <th>z</th>\n",
       "      <th>P&gt;|z|</th>\n",
       "      <th>[0.025</th>\n",
       "      <th>0.975]</th>\n",
       "    </tr>\n",
       "  </thead>\n",
       "  <tbody>\n",
       "    <tr>\n",
       "      <th>const</th>\n",
       "      <td>-12.237944</td>\n",
       "      <td>0.595702</td>\n",
       "      <td>-20.543742</td>\n",
       "      <td>8.755006e-94</td>\n",
       "      <td>-13.405498</td>\n",
       "      <td>-11.070390</td>\n",
       "    </tr>\n",
       "    <tr>\n",
       "      <th>balance</th>\n",
       "      <td>0.006286</td>\n",
       "      <td>0.001807</td>\n",
       "      <td>3.478648</td>\n",
       "      <td>5.039498e-04</td>\n",
       "      <td>0.002744</td>\n",
       "      <td>0.009828</td>\n",
       "    </tr>\n",
       "    <tr>\n",
       "      <th>income</th>\n",
       "      <td>0.000021</td>\n",
       "      <td>0.000006</td>\n",
       "      <td>3.775839</td>\n",
       "      <td>1.594700e-04</td>\n",
       "      <td>0.000010</td>\n",
       "      <td>0.000033</td>\n",
       "    </tr>\n",
       "    <tr>\n",
       "      <th>random_0</th>\n",
       "      <td>0.247667</td>\n",
       "      <td>0.265160</td>\n",
       "      <td>0.934028</td>\n",
       "      <td>3.502897e-01</td>\n",
       "      <td>-0.272038</td>\n",
       "      <td>0.767372</td>\n",
       "    </tr>\n",
       "    <tr>\n",
       "      <th>random_1</th>\n",
       "      <td>0.270688</td>\n",
       "      <td>0.270698</td>\n",
       "      <td>0.999962</td>\n",
       "      <td>3.173287e-01</td>\n",
       "      <td>-0.259871</td>\n",
       "      <td>0.801247</td>\n",
       "    </tr>\n",
       "    <tr>\n",
       "      <th>random_2</th>\n",
       "      <td>0.005983</td>\n",
       "      <td>0.273427</td>\n",
       "      <td>0.021883</td>\n",
       "      <td>9.825415e-01</td>\n",
       "      <td>-0.529923</td>\n",
       "      <td>0.541890</td>\n",
       "    </tr>\n",
       "    <tr>\n",
       "      <th>random_3</th>\n",
       "      <td>-0.175438</td>\n",
       "      <td>0.272641</td>\n",
       "      <td>-0.643476</td>\n",
       "      <td>5.199155e-01</td>\n",
       "      <td>-0.709803</td>\n",
       "      <td>0.358928</td>\n",
       "    </tr>\n",
       "    <tr>\n",
       "      <th>random_4</th>\n",
       "      <td>0.271157</td>\n",
       "      <td>0.276608</td>\n",
       "      <td>0.980294</td>\n",
       "      <td>3.269410e-01</td>\n",
       "      <td>-0.270984</td>\n",
       "      <td>0.813299</td>\n",
       "    </tr>\n",
       "    <tr>\n",
       "      <th>correlated_0</th>\n",
       "      <td>0.000852</td>\n",
       "      <td>0.000786</td>\n",
       "      <td>1.083316</td>\n",
       "      <td>2.786683e-01</td>\n",
       "      <td>-0.000689</td>\n",
       "      <td>0.002393</td>\n",
       "    </tr>\n",
       "    <tr>\n",
       "      <th>correlated_1</th>\n",
       "      <td>0.001076</td>\n",
       "      <td>0.000797</td>\n",
       "      <td>1.349836</td>\n",
       "      <td>1.770685e-01</td>\n",
       "      <td>-0.000486</td>\n",
       "      <td>0.002637</td>\n",
       "    </tr>\n",
       "    <tr>\n",
       "      <th>correlated_2</th>\n",
       "      <td>-0.000940</td>\n",
       "      <td>0.000778</td>\n",
       "      <td>-1.208047</td>\n",
       "      <td>2.270293e-01</td>\n",
       "      <td>-0.002465</td>\n",
       "      <td>0.000585</td>\n",
       "    </tr>\n",
       "    <tr>\n",
       "      <th>correlated_3</th>\n",
       "      <td>-0.000499</td>\n",
       "      <td>0.000778</td>\n",
       "      <td>-0.641376</td>\n",
       "      <td>5.212786e-01</td>\n",
       "      <td>-0.002023</td>\n",
       "      <td>0.001026</td>\n",
       "    </tr>\n",
       "    <tr>\n",
       "      <th>correlated_4</th>\n",
       "      <td>-0.000926</td>\n",
       "      <td>0.000803</td>\n",
       "      <td>-1.152861</td>\n",
       "      <td>2.489673e-01</td>\n",
       "      <td>-0.002501</td>\n",
       "      <td>0.000648</td>\n",
       "    </tr>\n",
       "  </tbody>\n",
       "</table>\n",
       "</div>"
      ],
      "text/plain": [
       "                  Coef.  Std.Err.          z         P>|z|     [0.025  \\\n",
       "const        -12.237944  0.595702 -20.543742  8.755006e-94 -13.405498   \n",
       "balance        0.006286  0.001807   3.478648  5.039498e-04   0.002744   \n",
       "income         0.000021  0.000006   3.775839  1.594700e-04   0.000010   \n",
       "random_0       0.247667  0.265160   0.934028  3.502897e-01  -0.272038   \n",
       "random_1       0.270688  0.270698   0.999962  3.173287e-01  -0.259871   \n",
       "random_2       0.005983  0.273427   0.021883  9.825415e-01  -0.529923   \n",
       "random_3      -0.175438  0.272641  -0.643476  5.199155e-01  -0.709803   \n",
       "random_4       0.271157  0.276608   0.980294  3.269410e-01  -0.270984   \n",
       "correlated_0   0.000852  0.000786   1.083316  2.786683e-01  -0.000689   \n",
       "correlated_1   0.001076  0.000797   1.349836  1.770685e-01  -0.000486   \n",
       "correlated_2  -0.000940  0.000778  -1.208047  2.270293e-01  -0.002465   \n",
       "correlated_3  -0.000499  0.000778  -0.641376  5.212786e-01  -0.002023   \n",
       "correlated_4  -0.000926  0.000803  -1.152861  2.489673e-01  -0.002501   \n",
       "\n",
       "                 0.975]  \n",
       "const        -11.070390  \n",
       "balance        0.009828  \n",
       "income         0.000033  \n",
       "random_0       0.767372  \n",
       "random_1       0.801247  \n",
       "random_2       0.541890  \n",
       "random_3       0.358928  \n",
       "random_4       0.813299  \n",
       "correlated_0   0.002393  \n",
       "correlated_1   0.002637  \n",
       "correlated_2   0.000585  \n",
       "correlated_3   0.001026  \n",
       "correlated_4   0.000648  "
      ]
     },
     "execution_count": 393,
     "metadata": {},
     "output_type": "execute_result"
    }
   ],
   "source": [
    "# Fit the model\n",
    "X_train_w_intercept = sm.add_constant(X_train)\n",
    "est = sm.Logit(y_train, X_train_w_intercept).fit()\n",
    "est.summary2().tables[1]"
   ]
  },
  {
   "cell_type": "code",
   "execution_count": 394,
   "metadata": {},
   "outputs": [],
   "source": [
    "X_test_w_intercept = sm.add_constant(X_test)\n",
    "y_prob = est.predict(X_test_w_intercept)\n",
    "y_pred = (y_prob > 0.5).astype(int)\n"
   ]
  },
  {
   "cell_type": "code",
   "execution_count": 395,
   "metadata": {},
   "outputs": [
    {
     "data": {
      "image/png": "[encoded data removed]",
      "text/plain": [
       "<Figure size 640x480 with 2 Axes>"
      ]
     },
     "metadata": {},
     "output_type": "display_data"
    }
   ],
   "source": [
    "# Confusion matrix\n",
    "cm = confusion_matrix(y_test, y_pred)\n",
    "cm_display = ConfusionMatrixDisplay(cm).plot()"
   ]
  },
  {
   "cell_type": "code",
   "execution_count": 396,
   "metadata": {},
   "outputs": [
    {
     "data": {
      "text/plain": [
       "0.9695"
      ]
     },
     "execution_count": 396,
     "metadata": {},
     "output_type": "execute_result"
    }
   ],
   "source": [
    "# Accuracy\n",
    "new_accuracy = metrics.accuracy_score(y_test, y_pred)\n",
    "new_accuracy\n",
    "\n"
   ]
  },
  {
   "cell_type": "code",
   "execution_count": 397,
   "metadata": {},
   "outputs": [
    {
     "name": "stdout",
     "output_type": "stream",
     "text": [
      "The accuracy is worse\n"
     ]
    }
   ],
   "source": [
    "if new_accuracy > accuracy:\n",
    "    print('The accuracy has improved')\n",
    "elif new_accuracy == accuracy:\n",
    "    print('The accuracy is the same')\n",
    "else:\n",
    "    print('The accuracy is worse')"
   ]
  },
  {
   "cell_type": "markdown",
   "metadata": {},
   "source": [
    "# Feature Selection\n",
    "Feature selection is primarily focused on removing non-informative or redundant predictors from the model.\n",
    "\n"
   ]
  },
  {
   "cell_type": "code",
   "execution_count": 398,
   "metadata": {},
   "outputs": [],
   "source": [
    "# Import "
   ]
  }
 ],
 "metadata": {
  "kernelspec": {
   "display_name": ".venv",
   "language": "python",
   "name": "python3"
  },
  "language_info": {
   "codemirror_mode": {
    "name": "ipython",
    "version": 3
   },
   "file_extension": ".py",
   "mimetype": "text/x-python",
   "name": "python",
   "nbconvert_exporter": "python",
   "pygments_lexer": "ipython3",
   "version": "3.12.0"
  }
 },
 "nbformat": 4,
 "nbformat_minor": 2
}
