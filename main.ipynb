{
 "cells": [
  {
   "cell_type": "markdown",
   "metadata": {},
   "source": [
    "# Data Preparation: Outlier"
   ]
  },
  {
   "cell_type": "code",
   "execution_count": 29,
   "metadata": {},
   "outputs": [],
   "source": [
    "# Import\n",
    "import numpy as np\n",
    "import pandas as pd\n",
    "\n",
    "import matplotlib.pyplot as plt\n",
    "import seaborn as sns\n",
    "\n",
    "import statsmodels.api as sm\n",
    "import sklearn.linear_model as skl_lm\n",
    "from sklearn import metrics\n",
    "from sklearn.metrics import confusion_matrix, ConfusionMatrixDisplay\n",
    "from sklearn.model_selection import train_test_split\n"
   ]
  },
  {
   "cell_type": "code",
   "execution_count": 19,
   "metadata": {},
   "outputs": [],
   "source": [
    "# Import the dataset\n",
    "df = pd.read_csv('data/Default.csv')"
   ]
  },
  {
   "cell_type": "code",
   "execution_count": 20,
   "metadata": {},
   "outputs": [],
   "source": [
    "df.set_index('Unnamed: 0', inplace=True)\n",
    "df['default2'] = df.default.factorize()[0]\n",
    "df['student2'] = df.student.factorize()[0]"
   ]
  },
  {
   "cell_type": "code",
   "execution_count": 21,
   "metadata": {},
   "outputs": [
    {
     "data": {
      "text/plain": [
       "array([[ 729.52649521],\n",
       "       [ 817.18040656],\n",
       "       [1073.54916401],\n",
       "       ...,\n",
       "       [ 845.41198922],\n",
       "       [1569.00905338],\n",
       "       [ 200.92218263]])"
      ]
     },
     "execution_count": 21,
     "metadata": {},
     "output_type": "execute_result"
    }
   ],
   "source": [
    "x = df.balance.values.reshape(-1,1) # scikit-learn expects a 2D array not a pd.Series :(\n",
    "y = df.default2\n",
    "x"
   ]
  },
  {
   "cell_type": "code",
   "execution_count": 22,
   "metadata": {},
   "outputs": [],
   "source": [
    "X_train, X_test, y_train, y_test = train_test_split(x, y, test_size=0.2, random_state=42)\n"
   ]
  },
  {
   "cell_type": "code",
   "execution_count": 23,
   "metadata": {},
   "outputs": [
    {
     "name": "stdout",
     "output_type": "stream",
     "text": [
      "Optimization terminated successfully.\n",
      "         Current function value: 0.077080\n",
      "         Iterations 10\n"
     ]
    },
    {
     "data": {
      "text/html": [
       "<div>\n",
       "<style scoped>\n",
       "    .dataframe tbody tr th:only-of-type {\n",
       "        vertical-align: middle;\n",
       "    }\n",
       "\n",
       "    .dataframe tbody tr th {\n",
       "        vertical-align: top;\n",
       "    }\n",
       "\n",
       "    .dataframe thead th {\n",
       "        text-align: right;\n",
       "    }\n",
       "</style>\n",
       "<table border=\"1\" class=\"dataframe\">\n",
       "  <thead>\n",
       "    <tr style=\"text-align: right;\">\n",
       "      <th></th>\n",
       "      <th>Coef.</th>\n",
       "      <th>Std.Err.</th>\n",
       "      <th>z</th>\n",
       "      <th>P&gt;|z|</th>\n",
       "      <th>[0.025</th>\n",
       "      <th>0.975]</th>\n",
       "    </tr>\n",
       "  </thead>\n",
       "  <tbody>\n",
       "    <tr>\n",
       "      <th>const</th>\n",
       "      <td>-10.917012</td>\n",
       "      <td>0.420202</td>\n",
       "      <td>-25.980389</td>\n",
       "      <td>8.250468e-149</td>\n",
       "      <td>-11.740593</td>\n",
       "      <td>-10.093431</td>\n",
       "    </tr>\n",
       "    <tr>\n",
       "      <th>0</th>\n",
       "      <td>0.005648</td>\n",
       "      <td>0.000255</td>\n",
       "      <td>22.156487</td>\n",
       "      <td>9.032757e-109</td>\n",
       "      <td>0.005148</td>\n",
       "      <td>0.006147</td>\n",
       "    </tr>\n",
       "  </tbody>\n",
       "</table>\n",
       "</div>"
      ],
      "text/plain": [
       "           Coef.  Std.Err.          z          P>|z|     [0.025     0.975]\n",
       "const -10.917012  0.420202 -25.980389  8.250468e-149 -11.740593 -10.093431\n",
       "0       0.005648  0.000255  22.156487  9.032757e-109   0.005148   0.006147"
      ]
     },
     "execution_count": 23,
     "metadata": {},
     "output_type": "execute_result"
    }
   ],
   "source": [
    "X_train_w_intercept = sm.add_constant(pd.DataFrame(X_train))\n",
    "est = sm.Logit(y_train.to_numpy(), X_train_w_intercept).fit()\n",
    "est.summary2().tables[1]\n",
    "\n"
   ]
  },
  {
   "cell_type": "code",
   "execution_count": 26,
   "metadata": {},
   "outputs": [],
   "source": [
    "X_test_w_intercept = sm.add_constant(pd.DataFrame(X_test))\n",
    "y_prob = est.predict(X_test_w_intercept)\n",
    "y_pred = (y_prob > 0.5).astype(int)"
   ]
  },
  {
   "cell_type": "code",
   "execution_count": 27,
   "metadata": {},
   "outputs": [
    {
     "data": {
      "image/png": "[encoded data removed]",
      "text/plain": [
       "<Figure size 640x480 with 2 Axes>"
      ]
     },
     "metadata": {},
     "output_type": "display_data"
    }
   ],
   "source": [
    "cm = confusion_matrix(y_test, y_pred)\n",
    "cm_display = ConfusionMatrixDisplay(cm).plot()\n",
    "plt.show()"
   ]
  },
  {
   "cell_type": "code",
   "execution_count": 28,
   "metadata": {},
   "outputs": [
    {
     "data": {
      "text/plain": [
       "0.9685"
      ]
     },
     "execution_count": 28,
     "metadata": {},
     "output_type": "execute_result"
    }
   ],
   "source": [
    "accuracy = metrics.accuracy_score(y_test, y_pred)\n",
    "accuracy"
   ]
  },
  {
   "cell_type": "code",
   "execution_count": 31,
   "metadata": {},
   "outputs": [],
   "source": [
    "# Create 10 new syntetic columns with random values\n",
    "for i in range(10):\n",
    "    df[f'random_{i}'] = np.random.rand(df.shape[0])\n",
    "    "
   ]
  },
  {
   "cell_type": "code",
   "execution_count": 32,
   "metadata": {},
   "outputs": [],
   "source": [
    "# Select all the columns that are not 'default' or 'student'\n",
    "X = df.loc[:, ~df.columns.isin(['default', 'student', 'default2', 'student2'])]\n",
    "y = df.default2\n"
   ]
  },
  {
   "cell_type": "code",
   "execution_count": 33,
   "metadata": {},
   "outputs": [],
   "source": [
    "# Divide the dataset into training and testing\n",
    "X_train, X_test, y_train, y_test = train_test_split(X, y, test_size=0.2, random_state=42)\n"
   ]
  },
  {
   "cell_type": "code",
   "execution_count": 34,
   "metadata": {},
   "outputs": [
    {
     "name": "stdout",
     "output_type": "stream",
     "text": [
      "Optimization terminated successfully.\n",
      "         Current function value: 0.074961\n",
      "         Iterations 10\n"
     ]
    },
    {
     "data": {
      "text/html": [
       "<div>\n",
       "<style scoped>\n",
       "    .dataframe tbody tr th:only-of-type {\n",
       "        vertical-align: middle;\n",
       "    }\n",
       "\n",
       "    .dataframe tbody tr th {\n",
       "        vertical-align: top;\n",
       "    }\n",
       "\n",
       "    .dataframe thead th {\n",
       "        text-align: right;\n",
       "    }\n",
       "</style>\n",
       "<table border=\"1\" class=\"dataframe\">\n",
       "  <thead>\n",
       "    <tr style=\"text-align: right;\">\n",
       "      <th></th>\n",
       "      <th>Coef.</th>\n",
       "      <th>Std.Err.</th>\n",
       "      <th>z</th>\n",
       "      <th>P&gt;|z|</th>\n",
       "      <th>[0.025</th>\n",
       "      <th>0.975]</th>\n",
       "    </tr>\n",
       "  </thead>\n",
       "  <tbody>\n",
       "    <tr>\n",
       "      <th>const</th>\n",
       "      <td>-12.568488</td>\n",
       "      <td>0.681323</td>\n",
       "      <td>-18.447191</td>\n",
       "      <td>5.492735e-76</td>\n",
       "      <td>-13.903855</td>\n",
       "      <td>-11.233120</td>\n",
       "    </tr>\n",
       "    <tr>\n",
       "      <th>balance</th>\n",
       "      <td>0.005838</td>\n",
       "      <td>0.000267</td>\n",
       "      <td>21.876507</td>\n",
       "      <td>4.349007e-106</td>\n",
       "      <td>0.005315</td>\n",
       "      <td>0.006362</td>\n",
       "    </tr>\n",
       "    <tr>\n",
       "      <th>income</th>\n",
       "      <td>0.000020</td>\n",
       "      <td>0.000006</td>\n",
       "      <td>3.553494</td>\n",
       "      <td>3.801499e-04</td>\n",
       "      <td>0.000009</td>\n",
       "      <td>0.000031</td>\n",
       "    </tr>\n",
       "    <tr>\n",
       "      <th>random_0</th>\n",
       "      <td>0.300103</td>\n",
       "      <td>0.275958</td>\n",
       "      <td>1.087496</td>\n",
       "      <td>2.768176e-01</td>\n",
       "      <td>-0.240765</td>\n",
       "      <td>0.840972</td>\n",
       "    </tr>\n",
       "    <tr>\n",
       "      <th>random_1</th>\n",
       "      <td>-0.379080</td>\n",
       "      <td>0.269546</td>\n",
       "      <td>-1.406366</td>\n",
       "      <td>1.596155e-01</td>\n",
       "      <td>-0.907381</td>\n",
       "      <td>0.149220</td>\n",
       "    </tr>\n",
       "    <tr>\n",
       "      <th>random_2</th>\n",
       "      <td>0.186853</td>\n",
       "      <td>0.280708</td>\n",
       "      <td>0.665649</td>\n",
       "      <td>5.056355e-01</td>\n",
       "      <td>-0.363325</td>\n",
       "      <td>0.737031</td>\n",
       "    </tr>\n",
       "    <tr>\n",
       "      <th>random_3</th>\n",
       "      <td>-0.224503</td>\n",
       "      <td>0.274063</td>\n",
       "      <td>-0.819167</td>\n",
       "      <td>4.126911e-01</td>\n",
       "      <td>-0.761657</td>\n",
       "      <td>0.312650</td>\n",
       "    </tr>\n",
       "    <tr>\n",
       "      <th>random_4</th>\n",
       "      <td>0.092548</td>\n",
       "      <td>0.267624</td>\n",
       "      <td>0.345815</td>\n",
       "      <td>7.294815e-01</td>\n",
       "      <td>-0.431984</td>\n",
       "      <td>0.617081</td>\n",
       "    </tr>\n",
       "    <tr>\n",
       "      <th>random_5</th>\n",
       "      <td>0.227478</td>\n",
       "      <td>0.270507</td>\n",
       "      <td>0.840932</td>\n",
       "      <td>4.003859e-01</td>\n",
       "      <td>-0.302706</td>\n",
       "      <td>0.757662</td>\n",
       "    </tr>\n",
       "    <tr>\n",
       "      <th>random_6</th>\n",
       "      <td>0.253971</td>\n",
       "      <td>0.274900</td>\n",
       "      <td>0.923868</td>\n",
       "      <td>3.555550e-01</td>\n",
       "      <td>-0.284823</td>\n",
       "      <td>0.792765</td>\n",
       "    </tr>\n",
       "    <tr>\n",
       "      <th>random_7</th>\n",
       "      <td>-0.299759</td>\n",
       "      <td>0.273350</td>\n",
       "      <td>-1.096610</td>\n",
       "      <td>2.728121e-01</td>\n",
       "      <td>-0.835515</td>\n",
       "      <td>0.235998</td>\n",
       "    </tr>\n",
       "    <tr>\n",
       "      <th>random_8</th>\n",
       "      <td>0.094097</td>\n",
       "      <td>0.275841</td>\n",
       "      <td>0.341128</td>\n",
       "      <td>7.330070e-01</td>\n",
       "      <td>-0.446542</td>\n",
       "      <td>0.634736</td>\n",
       "    </tr>\n",
       "    <tr>\n",
       "      <th>random_9</th>\n",
       "      <td>1.068693</td>\n",
       "      <td>0.279451</td>\n",
       "      <td>3.824259</td>\n",
       "      <td>1.311662e-04</td>\n",
       "      <td>0.520979</td>\n",
       "      <td>1.616406</td>\n",
       "    </tr>\n",
       "  </tbody>\n",
       "</table>\n",
       "</div>"
      ],
      "text/plain": [
       "              Coef.  Std.Err.          z          P>|z|     [0.025     0.975]\n",
       "const    -12.568488  0.681323 -18.447191   5.492735e-76 -13.903855 -11.233120\n",
       "balance    0.005838  0.000267  21.876507  4.349007e-106   0.005315   0.006362\n",
       "income     0.000020  0.000006   3.553494   3.801499e-04   0.000009   0.000031\n",
       "random_0   0.300103  0.275958   1.087496   2.768176e-01  -0.240765   0.840972\n",
       "random_1  -0.379080  0.269546  -1.406366   1.596155e-01  -0.907381   0.149220\n",
       "random_2   0.186853  0.280708   0.665649   5.056355e-01  -0.363325   0.737031\n",
       "random_3  -0.224503  0.274063  -0.819167   4.126911e-01  -0.761657   0.312650\n",
       "random_4   0.092548  0.267624   0.345815   7.294815e-01  -0.431984   0.617081\n",
       "random_5   0.227478  0.270507   0.840932   4.003859e-01  -0.302706   0.757662\n",
       "random_6   0.253971  0.274900   0.923868   3.555550e-01  -0.284823   0.792765\n",
       "random_7  -0.299759  0.273350  -1.096610   2.728121e-01  -0.835515   0.235998\n",
       "random_8   0.094097  0.275841   0.341128   7.330070e-01  -0.446542   0.634736\n",
       "random_9   1.068693  0.279451   3.824259   1.311662e-04   0.520979   1.616406"
      ]
     },
     "execution_count": 34,
     "metadata": {},
     "output_type": "execute_result"
    }
   ],
   "source": [
    "# Fit the model\n",
    "X_train_w_intercept = sm.add_constant(X_train)\n",
    "est = sm.Logit(y_train, X_train_w_intercept).fit()\n",
    "est.summary2().tables[1]"
   ]
  },
  {
   "cell_type": "code",
   "execution_count": 35,
   "metadata": {},
   "outputs": [],
   "source": [
    "X_test_w_intercept = sm.add_constant(X_test)\n",
    "y_prob = est.predict(X_test_w_intercept)\n",
    "y_pred = (y_prob > 0.5).astype(int)\n"
   ]
  },
  {
   "cell_type": "code",
   "execution_count": 36,
   "metadata": {},
   "outputs": [
    {
     "data": {
      "image/png": "[encoded data removed]",
      "text/plain": [
       "<Figure size 640x480 with 2 Axes>"
      ]
     },
     "metadata": {},
     "output_type": "display_data"
    }
   ],
   "source": [
    "# Confusion matrix\n",
    "cm = confusion_matrix(y_test, y_pred)\n",
    "cm_display = ConfusionMatrixDisplay(cm).plot()"
   ]
  },
  {
   "cell_type": "code",
   "execution_count": 37,
   "metadata": {},
   "outputs": [
    {
     "data": {
      "text/plain": [
       "0.9675"
      ]
     },
     "execution_count": 37,
     "metadata": {},
     "output_type": "execute_result"
    }
   ],
   "source": [
    "# Accuracy\n",
    "accuracy = metrics.accuracy_score(y_test, y_pred)\n",
    "accuracy"
   ]
  },
  {
   "cell_type": "markdown",
   "metadata": {},
   "source": [
    "# Feature Selection\n",
    "Feature selection is primarily focused on removing non-informative or redundant predictors from the model.\n",
    "\n"
   ]
  },
  {
   "cell_type": "code",
   "execution_count": null,
   "metadata": {},
   "outputs": [],
   "source": [
    "# Import "
   ]
  }
 ],
 "metadata": {
  "kernelspec": {
   "display_name": ".venv",
   "language": "python",
   "name": "python3"
  },
  "language_info": {
   "codemirror_mode": {
    "name": "ipython",
    "version": 3
   },
   "file_extension": ".py",
   "mimetype": "text/x-python",
   "name": "python",
   "nbconvert_exporter": "python",
   "pygments_lexer": "ipython3",
   "version": "3.12.0"
  }
 },
 "nbformat": 4,
 "nbformat_minor": 2
}
